{
 "metadata": {
  "language_info": {
   "codemirror_mode": {
    "name": "ipython",
    "version": 3
   },
   "file_extension": ".py",
   "mimetype": "text/x-python",
   "name": "python",
   "nbconvert_exporter": "python",
   "pygments_lexer": "ipython3",
   "version": "3.7.7-final"
  },
  "orig_nbformat": 2,
  "kernelspec": {
   "name": "python3",
   "display_name": "Python 3"
  }
 },
 "nbformat": 4,
 "nbformat_minor": 2,
 "cells": [
  {
   "cell_type": "code",
   "execution_count": 1,
   "metadata": {},
   "outputs": [],
   "source": [
    "##选择排序\n",
    "def findSmallest(arr):\n",
    "    smallest=arr[0]\n",
    "    smallest_index=0\n",
    "    for i in range(1,len(arr)):\n",
    "        if arr[i]<smallest:\n",
    "            smallest=arr[i]\n",
    "            smallest_index=i\n",
    "    return smallest_index\n",
    "\n",
    "def selectionSort(arr):\n",
    "    newArr=[]\n",
    "    for i in range(len(arr)):\n",
    "        smallest=findSmallest(arr)\n",
    "        newArr.append(arr.pop(smallest))\n",
    "    return newArr"
   ]
  },
  {
   "cell_type": "code",
   "execution_count": 9,
   "metadata": {
    "tags": []
   },
   "outputs": [
    {
     "output_type": "stream",
     "name": "stdout",
     "text": "[4, 5, 6, 7, 8, 9, 11, 12, 22, 45, 55, 56]\n"
    }
   ],
   "source": [
    "print(selectionSort([5,8,6,4,12,11,9,7,22,55,45,56]))"
   ]
  }
 ]
}