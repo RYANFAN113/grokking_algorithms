{
 "metadata": {
  "language_info": {
   "codemirror_mode": {
    "name": "ipython",
    "version": 3
   },
   "file_extension": ".py",
   "mimetype": "text/x-python",
   "name": "python",
   "nbconvert_exporter": "python",
   "pygments_lexer": "ipython3",
   "version": "3.7.7-final"
  },
  "orig_nbformat": 2,
  "kernelspec": {
   "name": "python3",
   "display_name": "Python 3"
  }
 },
 "nbformat": 4,
 "nbformat_minor": 2,
 "cells": [
  {
   "cell_type": "code",
   "execution_count": null,
   "metadata": {},
   "outputs": [],
   "source": [
    "##分而治之（divide and conquer，D&C）\n",
    "##使用D&C解决问题的过程包括两个步骤。\n",
    "#(1) 找出基线条件，这种条件必须尽可能简单。\n",
    "#(2) 不断将问题分解（或者说缩小规模），直到符合基线条件。\n"
   ]
  },
  {
   "cell_type": "code",
   "execution_count": 4,
   "metadata": {
    "tags": []
   },
   "outputs": [
    {
     "output_type": "stream",
     "name": "stdout",
     "text": "[1, 5, 6, 8, 10, 15, 18, 20, 56, 84, 88, 99]\n"
    }
   ],
   "source": [
    "##快速排序\n",
    "##(1) 选择基准值。\n",
    "##(2) 将数组分成两个子数组：小于基准值的元素和大于基准值的元素。\n",
    "##(3) 对这两个子数组进行快速排序。\n",
    "\n",
    "def quicksort(array):\n",
    "    if len(array)<2:    #基线条件：为空或只包含一个元素的数组是“有序”的\n",
    "        return array\n",
    "    else:\n",
    "        pivot=array[0]  #递归条件\n",
    "        less=[i for i in array[1:] if i<=pivot]\n",
    "        greater=[i for i in array[1:] if i >pivot]\n",
    "\n",
    "        return quicksort(less)+[pivot]+quicksort(greater)\n",
    "    \n",
    "print(quicksort([5,8,6,1,20,10,18,15,88,56,84,99]))"
   ]
  },
  {
   "cell_type": "code",
   "execution_count": null,
   "metadata": {},
   "outputs": [],
   "source": []
  }
 ]
}