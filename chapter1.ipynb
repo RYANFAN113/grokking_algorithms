{
 "metadata": {
  "language_info": {
   "codemirror_mode": {
    "name": "ipython",
    "version": 3
   },
   "file_extension": ".py",
   "mimetype": "text/x-python",
   "name": "python",
   "nbconvert_exporter": "python",
   "pygments_lexer": "ipython3",
   "version": "3.7.7-final"
  },
  "orig_nbformat": 2,
  "kernelspec": {
   "name": "python3",
   "display_name": "Python 3"
  }
 },
 "nbformat": 4,
 "nbformat_minor": 2,
 "cells": [
  {
   "cell_type": "code",
   "execution_count": 4,
   "metadata": {},
   "outputs": [],
   "source": [
    "## 二分查找\n",
    "def binary_search(list,item):\n",
    "    low=0\n",
    "    high=len(list)-1\n",
    "\n",
    "    while low<=high:\n",
    "        mid=(low+high)//2  #//向下园整\n",
    "        guess=list[mid]\n",
    "        if guess==item:\n",
    "            return mid\n",
    "        if guess<item:\n",
    "            low=mid+1\n",
    "        else:\n",
    "            high=mid-1\n",
    "    return None"
   ]
  },
  {
   "cell_type": "code",
   "execution_count": 13,
   "metadata": {
    "tags": []
   },
   "outputs": [
    {
     "output_type": "stream",
     "name": "stdout",
     "text": "None\n5\n"
    }
   ],
   "source": [
    "my_list=[1,2,4,7,9,10,13,15,17,19,20]\n",
    "print(binary_search(my_list,14))\n",
    "print(binary_search(my_list,10))"
   ]
  },
  {
   "cell_type": "code",
   "execution_count": null,
   "metadata": {},
   "outputs": [],
   "source": []
  }
 ]
}